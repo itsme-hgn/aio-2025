{
 "cells": [
  {
   "cell_type": "markdown",
   "id": "151267bf",
   "metadata": {},
   "source": [
    "## Create a Series"
   ]
  },
  {
   "cell_type": "code",
   "execution_count": 1,
   "id": "2008cebc",
   "metadata": {},
   "outputs": [
    {
     "data": {
      "text/plain": [
       "C       C++\n",
       "G    Golang\n",
       "J      Java\n",
       "P    Python\n",
       "S     Swift\n",
       "Name: Programming Language, dtype: object"
      ]
     },
     "execution_count": 1,
     "metadata": {},
     "output_type": "execute_result"
    }
   ],
   "source": [
    "# Create a Series\n",
    "\n",
    "import pandas as pd\n",
    "import numpy as np\n",
    "\n",
    "data = pd.Series(['C++', 'Golang', 'Java', 'Python', 'Swift'], \n",
    "                 index=list('CGJPS'), \n",
    "                 name='Programming Language')\n",
    "data"
   ]
  },
  {
   "cell_type": "code",
   "execution_count": 2,
   "id": "98572fdf",
   "metadata": {},
   "outputs": [],
   "source": [
    "# Dropping an item\n",
    "\n",
    "data = data.drop('P')"
   ]
  },
  {
   "cell_type": "code",
   "execution_count": 3,
   "id": "ea7cf43c",
   "metadata": {},
   "outputs": [
    {
     "data": {
      "text/plain": [
       "C       C++\n",
       "G    Golang\n",
       "J      Java\n",
       "S     Swift\n",
       "Name: Programming Language, dtype: object"
      ]
     },
     "execution_count": 3,
     "metadata": {},
     "output_type": "execute_result"
    }
   ],
   "source": [
    "data"
   ]
  },
  {
   "cell_type": "code",
   "execution_count": 5,
   "id": "a44f3307",
   "metadata": {},
   "outputs": [
    {
     "data": {
      "text/plain": [
       "C     C++\n",
       "J    Java\n",
       "Name: Programming Language, dtype: object"
      ]
     },
     "execution_count": 5,
     "metadata": {},
     "output_type": "execute_result"
    }
   ],
   "source": [
    "# Get multiple items\n",
    "\n",
    "data[['C', 'J']]"
   ]
  },
  {
   "cell_type": "code",
   "execution_count": 6,
   "id": "97fceee2",
   "metadata": {},
   "outputs": [
    {
     "data": {
      "text/plain": [
       "C       C++\n",
       "G    Golang\n",
       "J      Java\n",
       "Name: Programming Language, dtype: object"
      ]
     },
     "execution_count": 6,
     "metadata": {},
     "output_type": "execute_result"
    }
   ],
   "source": [
    "data['C':'P']"
   ]
  },
  {
   "cell_type": "code",
   "execution_count": 7,
   "id": "c368dadb",
   "metadata": {},
   "outputs": [
    {
     "data": {
      "text/plain": [
       "J     Java\n",
       "S    Swift\n",
       "Name: Programming Language, dtype: object"
      ]
     },
     "execution_count": 7,
     "metadata": {},
     "output_type": "execute_result"
    }
   ],
   "source": [
    "result = data[2:4]\n",
    "result"
   ]
  },
  {
   "cell_type": "markdown",
   "id": "d3e993f9",
   "metadata": {},
   "source": [
    "## Insert rows"
   ]
  },
  {
   "cell_type": "code",
   "execution_count": 8,
   "id": "24da14c4",
   "metadata": {},
   "outputs": [
    {
     "data": {
      "text/plain": [
       "C       C++\n",
       "G    Golang\n",
       "J      Java\n",
       "S     Swift\n",
       "Name: Programming Language, dtype: object"
      ]
     },
     "execution_count": 8,
     "metadata": {},
     "output_type": "execute_result"
    }
   ],
   "source": [
    "data"
   ]
  },
  {
   "cell_type": "code",
   "execution_count": 9,
   "id": "ac9ff1d2",
   "metadata": {},
   "outputs": [
    {
     "data": {
      "text/plain": [
       "C       C++\n",
       "G    Golang\n",
       "J      Java\n",
       "S     Swift\n",
       "K    Kotlin\n",
       "Name: Programming Language, dtype: object"
      ]
     },
     "execution_count": 9,
     "metadata": {},
     "output_type": "execute_result"
    }
   ],
   "source": [
    "data['K'] = 'Kotlin'\n",
    "data"
   ]
  },
  {
   "cell_type": "code",
   "execution_count": 10,
   "id": "b001ec95",
   "metadata": {},
   "outputs": [
    {
     "name": "stdout",
     "output_type": "stream",
     "text": [
      "None\n"
     ]
    }
   ],
   "source": [
    "data2 = data.sort_index(inplace=True)\n",
    "print(data2)"
   ]
  },
  {
   "cell_type": "code",
   "execution_count": null,
   "id": "688f46e4",
   "metadata": {},
   "outputs": [],
   "source": []
  },
  {
   "cell_type": "markdown",
   "id": "47628107",
   "metadata": {},
   "source": [
    "## string"
   ]
  },
  {
   "cell_type": "code",
   "execution_count": 11,
   "id": "62bcecb0",
   "metadata": {},
   "outputs": [
    {
     "data": {
      "text/plain": [
       "C       C++\n",
       "G    Golang\n",
       "J      Java\n",
       "K    Kotlin\n",
       "S     Swift\n",
       "Name: Programming Language, dtype: object"
      ]
     },
     "execution_count": 11,
     "metadata": {},
     "output_type": "execute_result"
    }
   ],
   "source": [
    "data"
   ]
  },
  {
   "cell_type": "code",
   "execution_count": 12,
   "id": "f943b22b",
   "metadata": {},
   "outputs": [
    {
     "data": {
      "text/plain": [
       "C    0\n",
       "G    0\n",
       "J    1\n",
       "K    0\n",
       "S    0\n",
       "Name: Programming Language, dtype: int64"
      ]
     },
     "execution_count": 12,
     "metadata": {},
     "output_type": "execute_result"
    }
   ],
   "source": [
    "data.str.count('Java')"
   ]
  },
  {
   "cell_type": "code",
   "execution_count": 13,
   "id": "6a1d508b",
   "metadata": {},
   "outputs": [
    {
     "data": {
      "text/plain": [
       "C    0\n",
       "G    1\n",
       "J    2\n",
       "K    0\n",
       "S    0\n",
       "Name: Programming Language, dtype: int64"
      ]
     },
     "execution_count": 13,
     "metadata": {},
     "output_type": "execute_result"
    }
   ],
   "source": [
    "data.str.count('a')"
   ]
  },
  {
   "cell_type": "code",
   "execution_count": null,
   "id": "4434fa06",
   "metadata": {},
   "outputs": [],
   "source": []
  },
  {
   "cell_type": "code",
   "execution_count": 14,
   "id": "4b01986a",
   "metadata": {},
   "outputs": [
    {
     "data": {
      "text/plain": [
       "C       C++\n",
       "G    GOLANG\n",
       "J      JAVA\n",
       "K    KOTLIN\n",
       "S     SWIFT\n",
       "Name: Programming Language, dtype: object"
      ]
     },
     "execution_count": 14,
     "metadata": {},
     "output_type": "execute_result"
    }
   ],
   "source": [
    "data.str.upper()"
   ]
  },
  {
   "cell_type": "code",
   "execution_count": 15,
   "id": "9e49ff37",
   "metadata": {},
   "outputs": [
    {
     "data": {
      "text/plain": [
       "C       C++\n",
       "G    Golang\n",
       "J        C#\n",
       "K    Kotlin\n",
       "S     Swift\n",
       "Name: Programming Language, dtype: object"
      ]
     },
     "execution_count": 15,
     "metadata": {},
     "output_type": "execute_result"
    }
   ],
   "source": [
    "data.replace('Java', 'C#')"
   ]
  },
  {
   "cell_type": "code",
   "execution_count": null,
   "id": "e5f3ee89",
   "metadata": {},
   "outputs": [],
   "source": []
  },
  {
   "cell_type": "markdown",
   "id": "24efae85",
   "metadata": {},
   "source": [
    "## Missing values"
   ]
  },
  {
   "cell_type": "code",
   "execution_count": 16,
   "id": "0fa581fa",
   "metadata": {},
   "outputs": [
    {
     "data": {
      "text/plain": [
       "0    1.0\n",
       "1    6.0\n",
       "2    3.0\n",
       "3    8.0\n",
       "4    NaN\n",
       "5    7.0\n",
       "6    NaN\n",
       "7    2.0\n",
       "Name: num_dropped, dtype: float64"
      ]
     },
     "execution_count": 16,
     "metadata": {},
     "output_type": "execute_result"
    }
   ],
   "source": [
    "import pandas as pd\n",
    "import numpy as np\n",
    "\n",
    "data = pd.Series([1, 6, 3, 8, np.nan, 7, np.nan, 2], name='num_dropped')\n",
    "data"
   ]
  },
  {
   "cell_type": "code",
   "execution_count": null,
   "id": "9bbf7bdf",
   "metadata": {},
   "outputs": [],
   "source": []
  },
  {
   "cell_type": "code",
   "execution_count": 17,
   "id": "ec8d7a00",
   "metadata": {},
   "outputs": [
    {
     "data": {
      "text/plain": [
       "0    1.0\n",
       "1    6.0\n",
       "2    3.0\n",
       "3    8.0\n",
       "5    7.0\n",
       "7    2.0\n",
       "Name: num_dropped, dtype: float64"
      ]
     },
     "execution_count": 17,
     "metadata": {},
     "output_type": "execute_result"
    }
   ],
   "source": [
    "data.dropna()"
   ]
  },
  {
   "cell_type": "code",
   "execution_count": 18,
   "id": "12ea1a20",
   "metadata": {},
   "outputs": [
    {
     "data": {
      "text/plain": [
       "0    1.0\n",
       "1    6.0\n",
       "2    3.0\n",
       "3    8.0\n",
       "4    1.0\n",
       "5    7.0\n",
       "6    1.0\n",
       "7    2.0\n",
       "Name: num_dropped, dtype: float64"
      ]
     },
     "execution_count": 18,
     "metadata": {},
     "output_type": "execute_result"
    }
   ],
   "source": [
    "data.fillna(1.0)"
   ]
  },
  {
   "cell_type": "code",
   "execution_count": 19,
   "id": "8ffd10c2",
   "metadata": {},
   "outputs": [
    {
     "data": {
      "text/plain": [
       "0    1.0\n",
       "1    6.0\n",
       "2    3.0\n",
       "3    8.0\n",
       "4    7.5\n",
       "5    7.0\n",
       "6    4.5\n",
       "7    2.0\n",
       "Name: num_dropped, dtype: float64"
      ]
     },
     "execution_count": 19,
     "metadata": {},
     "output_type": "execute_result"
    }
   ],
   "source": [
    "data.interpolate()"
   ]
  },
  {
   "cell_type": "code",
   "execution_count": null,
   "id": "dcd1a3b4",
   "metadata": {},
   "outputs": [],
   "source": []
  },
  {
   "cell_type": "code",
   "execution_count": 20,
   "id": "3bbaede1",
   "metadata": {},
   "outputs": [
    {
     "data": {
      "text/plain": [
       "0    1.0\n",
       "1    6.0\n",
       "2    3.0\n",
       "3    8.0\n",
       "4    NaN\n",
       "5    7.0\n",
       "6    NaN\n",
       "7    2.0\n",
       "Name: num_dropped, dtype: float64"
      ]
     },
     "execution_count": 20,
     "metadata": {},
     "output_type": "execute_result"
    }
   ],
   "source": [
    "import pandas as pd\n",
    "import numpy as np\n",
    "\n",
    "data = pd.Series([1, 6, 3, 8, np.nan, 7, np.nan, 2], name='num_dropped')\n",
    "data"
   ]
  },
  {
   "cell_type": "code",
   "execution_count": 21,
   "id": "66b6bc1f",
   "metadata": {},
   "outputs": [
    {
     "data": {
      "text/plain": [
       "27.0"
      ]
     },
     "execution_count": 21,
     "metadata": {},
     "output_type": "execute_result"
    }
   ],
   "source": [
    "# most functions ignore the missing values\n",
    "\n",
    "data.sum()"
   ]
  },
  {
   "cell_type": "code",
   "execution_count": 22,
   "id": "d1aba2f4",
   "metadata": {},
   "outputs": [
    {
     "data": {
      "text/plain": [
       "1.0"
      ]
     },
     "execution_count": 22,
     "metadata": {},
     "output_type": "execute_result"
    }
   ],
   "source": [
    "data.min()"
   ]
  },
  {
   "cell_type": "code",
   "execution_count": 23,
   "id": "d3a3e10d",
   "metadata": {},
   "outputs": [
    {
     "data": {
      "text/plain": [
       "8.0"
      ]
     },
     "execution_count": 23,
     "metadata": {},
     "output_type": "execute_result"
    }
   ],
   "source": [
    "data.max()"
   ]
  },
  {
   "cell_type": "code",
   "execution_count": 24,
   "id": "5524d33b",
   "metadata": {},
   "outputs": [
    {
     "data": {
      "text/plain": [
       "4.5"
      ]
     },
     "execution_count": 24,
     "metadata": {},
     "output_type": "execute_result"
    }
   ],
   "source": [
    "data.mean()"
   ]
  },
  {
   "cell_type": "code",
   "execution_count": 25,
   "id": "4a46f032",
   "metadata": {},
   "outputs": [
    {
     "data": {
      "text/plain": [
       "2.8809720581775866"
      ]
     },
     "execution_count": 25,
     "metadata": {},
     "output_type": "execute_result"
    }
   ],
   "source": [
    "data.std()"
   ]
  },
  {
   "cell_type": "code",
   "execution_count": 26,
   "id": "ca11286d",
   "metadata": {},
   "outputs": [
    {
     "data": {
      "text/plain": [
       "3"
      ]
     },
     "execution_count": 26,
     "metadata": {},
     "output_type": "execute_result"
    }
   ],
   "source": [
    "data.idxmax()"
   ]
  },
  {
   "cell_type": "code",
   "execution_count": 27,
   "id": "cfe1c097",
   "metadata": {},
   "outputs": [
    {
     "data": {
      "text/plain": [
       "3"
      ]
     },
     "execution_count": 27,
     "metadata": {},
     "output_type": "execute_result"
    }
   ],
   "source": [
    "data.argmax()"
   ]
  },
  {
   "cell_type": "code",
   "execution_count": null,
   "id": "71568be2",
   "metadata": {},
   "outputs": [],
   "source": []
  },
  {
   "cell_type": "markdown",
   "id": "00a9a719",
   "metadata": {},
   "source": [
    "## Addition between two Series"
   ]
  },
  {
   "cell_type": "code",
   "execution_count": 28,
   "id": "fe5dc54a",
   "metadata": {},
   "outputs": [
    {
     "data": {
      "text/plain": [
       "C++        NaN\n",
       "Golang    65.0\n",
       "Java      75.0\n",
       "Python    60.0\n",
       "Swift     36.0\n",
       "Name: num_registered, dtype: float64"
      ]
     },
     "execution_count": 28,
     "metadata": {},
     "output_type": "execute_result"
    }
   ],
   "source": [
    "center1 = pd.Series([12, 23, 31, 11, 9], \n",
    "                    index=list(['C++', 'Golang', 'Java', 'Python', 'Swift']), \n",
    "                    name='num_registered')\n",
    "center2 = pd.Series([42, 44, 49, 27], \n",
    "                    index=list(['Golang', 'Java', 'Python', 'Swift']), \n",
    "                    name='num_registered')\n",
    "total = center1 + center2\n",
    "total"
   ]
  },
  {
   "cell_type": "code",
   "execution_count": null,
   "id": "e18823af",
   "metadata": {},
   "outputs": [],
   "source": []
  },
  {
   "cell_type": "markdown",
   "id": "713df797",
   "metadata": {},
   "source": [
    "## Example"
   ]
  },
  {
   "cell_type": "code",
   "execution_count": 29,
   "id": "5168e7b9",
   "metadata": {},
   "outputs": [
    {
     "data": {
      "text/plain": [
       "0       C++\n",
       "1    Golang\n",
       "2      Java\n",
       "3    Python\n",
       "4     Swift\n",
       "Name: language, dtype: object"
      ]
     },
     "execution_count": 29,
     "metadata": {},
     "output_type": "execute_result"
    }
   ],
   "source": [
    "import pandas as pd\n",
    "import numpy as np\n",
    "\n",
    "data = pd.Series(['C++', 'Golang', 'Java', 'Python', 'Swift'], name='language')\n",
    "data"
   ]
  },
  {
   "cell_type": "code",
   "execution_count": 30,
   "id": "a70e3a28",
   "metadata": {},
   "outputs": [
    {
     "data": {
      "text/plain": [
       "0.0       C++\n",
       "1.0    Golang\n",
       "2.0      Java\n",
       "3.0    Python\n",
       "4.0     Swift\n",
       "2.5        C#\n",
       "Name: language, dtype: object"
      ]
     },
     "execution_count": 30,
     "metadata": {},
     "output_type": "execute_result"
    }
   ],
   "source": [
    "data[2.5] = 'C#'\n",
    "data"
   ]
  },
  {
   "cell_type": "code",
   "execution_count": 31,
   "id": "bb7dc903",
   "metadata": {},
   "outputs": [],
   "source": [
    "data.sort_index(inplace=True)"
   ]
  },
  {
   "cell_type": "code",
   "execution_count": 32,
   "id": "fcd19ec9",
   "metadata": {},
   "outputs": [
    {
     "data": {
      "text/plain": [
       "0.0       C++\n",
       "1.0    Golang\n",
       "2.0      Java\n",
       "2.5        C#\n",
       "3.0    Python\n",
       "4.0     Swift\n",
       "Name: language, dtype: object"
      ]
     },
     "execution_count": 32,
     "metadata": {},
     "output_type": "execute_result"
    }
   ],
   "source": [
    "data"
   ]
  },
  {
   "cell_type": "code",
   "execution_count": 33,
   "id": "4b14e84e",
   "metadata": {},
   "outputs": [
    {
     "data": {
      "text/plain": [
       "0       C++\n",
       "1    Golang\n",
       "2      Java\n",
       "3        C#\n",
       "4    Python\n",
       "5     Swift\n",
       "Name: language, dtype: object"
      ]
     },
     "execution_count": 33,
     "metadata": {},
     "output_type": "execute_result"
    }
   ],
   "source": [
    "data.reset_index(drop=True)"
   ]
  },
  {
   "cell_type": "code",
   "execution_count": null,
   "id": "c7dd14ab",
   "metadata": {},
   "outputs": [],
   "source": []
  }
 ],
 "metadata": {
  "kernelspec": {
   "display_name": "torchenv",
   "language": "python",
   "name": "python3"
  },
  "language_info": {
   "codemirror_mode": {
    "name": "ipython",
    "version": 3
   },
   "file_extension": ".py",
   "mimetype": "text/x-python",
   "name": "python",
   "nbconvert_exporter": "python",
   "pygments_lexer": "ipython3",
   "version": "3.12.4"
  }
 },
 "nbformat": 4,
 "nbformat_minor": 5
}
