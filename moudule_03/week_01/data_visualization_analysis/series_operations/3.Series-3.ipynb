{
 "cells": [
  {
   "cell_type": "markdown",
   "id": "e2610720",
   "metadata": {},
   "source": [
    "## Strings "
   ]
  },
  {
   "cell_type": "code",
   "execution_count": 1,
   "id": "c35324a9",
   "metadata": {},
   "outputs": [
    {
     "data": {
      "text/plain": [
       "0       C++\n",
       "1    Golang\n",
       "2      Java\n",
       "3    Python\n",
       "4     Swift\n",
       "dtype: object"
      ]
     },
     "execution_count": 1,
     "metadata": {},
     "output_type": "execute_result"
    }
   ],
   "source": [
    "import pandas as pd\n",
    "import numpy as np\n",
    "\n",
    "data = pd.Series(['C++', 'Golang', 'Java', 'Python', 'Swift'])\n",
    "data"
   ]
  },
  {
   "cell_type": "code",
   "execution_count": 2,
   "id": "12ec8e4d",
   "metadata": {},
   "outputs": [
    {
     "data": {
      "text/plain": [
       "0    0\n",
       "1    0\n",
       "2    1\n",
       "3    0\n",
       "4    0\n",
       "dtype: int64"
      ]
     },
     "execution_count": 2,
     "metadata": {},
     "output_type": "execute_result"
    }
   ],
   "source": [
    "data.str.count('Java')"
   ]
  },
  {
   "cell_type": "code",
   "execution_count": 3,
   "id": "80682526",
   "metadata": {},
   "outputs": [
    {
     "data": {
      "text/plain": [
       "0       C++\n",
       "1    GOLANG\n",
       "2      JAVA\n",
       "3    PYTHON\n",
       "4     SWIFT\n",
       "dtype: object"
      ]
     },
     "execution_count": 3,
     "metadata": {},
     "output_type": "execute_result"
    }
   ],
   "source": [
    "data.str.upper()"
   ]
  },
  {
   "cell_type": "code",
   "execution_count": 4,
   "id": "babebee9",
   "metadata": {},
   "outputs": [
    {
     "data": {
      "text/plain": [
       "0       C++\n",
       "1    Golang\n",
       "2        C#\n",
       "3    Python\n",
       "4     Swift\n",
       "dtype: object"
      ]
     },
     "execution_count": 4,
     "metadata": {},
     "output_type": "execute_result"
    }
   ],
   "source": [
    "data.replace('Java', 'C#')"
   ]
  },
  {
   "cell_type": "code",
   "execution_count": null,
   "id": "b7450785",
   "metadata": {},
   "outputs": [],
   "source": []
  },
  {
   "cell_type": "markdown",
   "id": "bb5555b5",
   "metadata": {},
   "source": [
    "## Group by"
   ]
  },
  {
   "cell_type": "code",
   "execution_count": 5,
   "id": "59040bc1",
   "metadata": {},
   "outputs": [
    {
     "data": {
      "text/plain": [
       "C++       4\n",
       "Golang    1\n",
       "Java      0\n",
       "Python    2\n",
       "Swift     2\n",
       "C#        1\n",
       "Name: num_dropped, dtype: int64"
      ]
     },
     "execution_count": 5,
     "metadata": {},
     "output_type": "execute_result"
    }
   ],
   "source": [
    "import pandas as pd\n",
    "import numpy as np\n",
    "\n",
    "data = pd.Series([4, 1, 0, 2, 2, 1], \n",
    "                 index=list(['C++', 'Golang', 'Java', 'Python', 'Swift', 'C#']), \n",
    "                 name='num_dropped')\n",
    "data"
   ]
  },
  {
   "cell_type": "code",
   "execution_count": null,
   "id": "36b68b76",
   "metadata": {},
   "outputs": [],
   "source": []
  },
  {
   "cell_type": "code",
   "execution_count": 6,
   "id": "e7e7206c",
   "metadata": {},
   "outputs": [
    {
     "data": {
      "text/plain": [
       "C++       4\n",
       "Golang    1\n",
       "Java      0\n",
       "Golang    2\n",
       "Java      2\n",
       "C++       1\n",
       "Name: num_dropped, dtype: int64"
      ]
     },
     "execution_count": 6,
     "metadata": {},
     "output_type": "execute_result"
    }
   ],
   "source": [
    "import pandas as pd\n",
    "import numpy as np\n",
    "\n",
    "data = pd.Series([4, 1, 0, 2, 2, 1], \n",
    "                 index=list(['C++', 'Golang', 'Java', 'Golang', 'Java', 'C++']), \n",
    "                 name='num_dropped')\n",
    "data"
   ]
  },
  {
   "cell_type": "code",
   "execution_count": 7,
   "id": "13976ae7",
   "metadata": {},
   "outputs": [
    {
     "data": {
      "text/plain": [
       "5"
      ]
     },
     "execution_count": 7,
     "metadata": {},
     "output_type": "execute_result"
    }
   ],
   "source": [
    "data['C++'].sum()"
   ]
  },
  {
   "cell_type": "code",
   "execution_count": null,
   "id": "d94e146f",
   "metadata": {},
   "outputs": [],
   "source": []
  },
  {
   "cell_type": "code",
   "execution_count": 8,
   "id": "7d8dd0c0",
   "metadata": {},
   "outputs": [
    {
     "data": {
      "text/plain": [
       "Golang    1\n",
       "Golang    2\n",
       "Name: num_dropped, dtype: int64"
      ]
     },
     "execution_count": 8,
     "metadata": {},
     "output_type": "execute_result"
    }
   ],
   "source": [
    "data['Golang']"
   ]
  },
  {
   "cell_type": "code",
   "execution_count": 9,
   "id": "11308d90",
   "metadata": {},
   "outputs": [
    {
     "data": {
      "text/plain": [
       "Java    0\n",
       "Java    2\n",
       "Name: num_dropped, dtype: int64"
      ]
     },
     "execution_count": 9,
     "metadata": {},
     "output_type": "execute_result"
    }
   ],
   "source": [
    "data['Java']"
   ]
  },
  {
   "cell_type": "code",
   "execution_count": 10,
   "id": "9bfa331b",
   "metadata": {},
   "outputs": [
    {
     "name": "stdout",
     "output_type": "stream",
     "text": [
      "5\n",
      "3\n",
      "2\n"
     ]
    }
   ],
   "source": [
    "print(data['C++'].sum())\n",
    "print(data['Golang'].sum())\n",
    "print(data['Java'].sum())"
   ]
  },
  {
   "cell_type": "code",
   "execution_count": null,
   "id": "2bfd2904",
   "metadata": {},
   "outputs": [],
   "source": []
  },
  {
   "cell_type": "code",
   "execution_count": 11,
   "id": "819bbe14",
   "metadata": {},
   "outputs": [
    {
     "data": {
      "text/plain": [
       "C++       5\n",
       "Golang    3\n",
       "Java      2\n",
       "Name: num_dropped, dtype: int64"
      ]
     },
     "execution_count": 11,
     "metadata": {},
     "output_type": "execute_result"
    }
   ],
   "source": [
    "data.groupby(level=0).sum()"
   ]
  },
  {
   "cell_type": "code",
   "execution_count": 12,
   "id": "4f7635fb",
   "metadata": {},
   "outputs": [
    {
     "data": {
      "text/plain": [
       "num_dropped\n",
       "False    6\n",
       "True     4\n",
       "Name: num_dropped, dtype: int64"
      ]
     },
     "execution_count": 12,
     "metadata": {},
     "output_type": "execute_result"
    }
   ],
   "source": [
    "data.groupby(data>3).sum()"
   ]
  },
  {
   "cell_type": "code",
   "execution_count": null,
   "id": "e7f171d3",
   "metadata": {},
   "outputs": [],
   "source": []
  },
  {
   "cell_type": "markdown",
   "id": "eb18ee09",
   "metadata": {},
   "source": [
    "## MultiIndex (optional)"
   ]
  },
  {
   "cell_type": "code",
   "execution_count": 13,
   "id": "383491ce",
   "metadata": {},
   "outputs": [
    {
     "data": {
      "text/plain": [
       "Animal  Type   \n",
       "Falcon  Captive    390.0\n",
       "        Wild       350.0\n",
       "Parrot  Captive     30.0\n",
       "        Wild        20.0\n",
       "Name: Max Speed, dtype: float64"
      ]
     },
     "execution_count": 13,
     "metadata": {},
     "output_type": "execute_result"
    }
   ],
   "source": [
    "arrays = [['Falcon', 'Falcon', 'Parrot', 'Parrot'],\n",
    "          ['Captive', 'Wild', 'Captive', 'Wild']]\n",
    "index = pd.MultiIndex.from_arrays(arrays, \n",
    "                                  names=('Animal', 'Type'))\n",
    "ser = pd.Series([390., 350., 30., 20.], \n",
    "                index=index, \n",
    "                name=\"Max Speed\")\n",
    "ser"
   ]
  },
  {
   "cell_type": "code",
   "execution_count": 14,
   "id": "dfab1d70",
   "metadata": {},
   "outputs": [
    {
     "data": {
      "text/plain": [
       "Animal\n",
       "Falcon    740.0\n",
       "Parrot     50.0\n",
       "Name: Max Speed, dtype: float64"
      ]
     },
     "execution_count": 14,
     "metadata": {},
     "output_type": "execute_result"
    }
   ],
   "source": [
    "ser.groupby(level=0).sum()"
   ]
  },
  {
   "cell_type": "code",
   "execution_count": 15,
   "id": "1d2e5341",
   "metadata": {},
   "outputs": [
    {
     "data": {
      "text/plain": [
       "Type\n",
       "Captive    210.0\n",
       "Wild       185.0\n",
       "Name: Max Speed, dtype: float64"
      ]
     },
     "execution_count": 15,
     "metadata": {},
     "output_type": "execute_result"
    }
   ],
   "source": [
    "ser.groupby(level=\"Type\").mean()"
   ]
  },
  {
   "cell_type": "code",
   "execution_count": 16,
   "id": "1d705645",
   "metadata": {},
   "outputs": [
    {
     "data": {
      "text/plain": [
       "Type\n",
       "Captive    420.0\n",
       "Wild       370.0\n",
       "Name: Max Speed, dtype: float64"
      ]
     },
     "execution_count": 16,
     "metadata": {},
     "output_type": "execute_result"
    }
   ],
   "source": [
    "ser.groupby(level=1).sum()"
   ]
  },
  {
   "cell_type": "code",
   "execution_count": 17,
   "id": "0706435f",
   "metadata": {},
   "outputs": [
    {
     "data": {
      "text/plain": [
       "MultiIndex([('Falcon', 'Captive'),\n",
       "            ('Falcon',    'Wild'),\n",
       "            ('Parrot', 'Captive'),\n",
       "            ('Parrot',    'Wild')],\n",
       "           names=['Animal', 'Type'])"
      ]
     },
     "execution_count": 17,
     "metadata": {},
     "output_type": "execute_result"
    }
   ],
   "source": [
    "ser.index"
   ]
  },
  {
   "cell_type": "code",
   "execution_count": null,
   "id": "a68e1fc8",
   "metadata": {},
   "outputs": [],
   "source": []
  }
 ],
 "metadata": {
  "kernelspec": {
   "display_name": "torchenv",
   "language": "python",
   "name": "python3"
  },
  "language_info": {
   "codemirror_mode": {
    "name": "ipython",
    "version": 3
   },
   "file_extension": ".py",
   "mimetype": "text/x-python",
   "name": "python",
   "nbconvert_exporter": "python",
   "pygments_lexer": "ipython3",
   "version": "3.12.4"
  }
 },
 "nbformat": 4,
 "nbformat_minor": 5
}
